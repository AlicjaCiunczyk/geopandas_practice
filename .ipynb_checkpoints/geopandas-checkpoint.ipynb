{
 "cells": [
  {
   "cell_type": "code",
   "execution_count": 1,
   "metadata": {},
   "outputs": [],
   "source": [
    "%matplotlib inline\n",
    "import pandas as pd\n",
    "import numpy as np\n",
    "import geopandas as gpd\n",
    "import os\n",
    "import matplotlib.pyplot as plt\n",
    "import matplotlib\n",
    "from shapely.geometry import Point"
   ]
  },
  {
   "cell_type": "code",
   "execution_count": 4,
   "metadata": {},
   "outputs": [],
   "source": [
    "fp = '/Users/bejbcia/pythonprojects/Portfolio/geopandas/Wojewodztwa/Wojewodztwa.shp'"
   ]
  },
  {
   "cell_type": "code",
   "execution_count": 5,
   "metadata": {},
   "outputs": [
    {
     "data": {
      "text/html": [
       "<div>\n",
       "<style scoped>\n",
       "    .dataframe tbody tr th:only-of-type {\n",
       "        vertical-align: middle;\n",
       "    }\n",
       "\n",
       "    .dataframe tbody tr th {\n",
       "        vertical-align: top;\n",
       "    }\n",
       "\n",
       "    .dataframe thead th {\n",
       "        text-align: right;\n",
       "    }\n",
       "</style>\n",
       "<table border=\"1\" class=\"dataframe\">\n",
       "  <thead>\n",
       "    <tr style=\"text-align: right;\">\n",
       "      <th></th>\n",
       "      <th>JPT_SJR_KO</th>\n",
       "      <th>JPT_KOD_JE</th>\n",
       "      <th>JPT_NAZWA_</th>\n",
       "      <th>JPT_ORGAN_</th>\n",
       "      <th>JPT_JOR_ID</th>\n",
       "      <th>WERSJA_OD</th>\n",
       "      <th>WERSJA_DO</th>\n",
       "      <th>WAZNY_OD</th>\n",
       "      <th>WAZNY_DO</th>\n",
       "      <th>JPT_KOD__1</th>\n",
       "      <th>...</th>\n",
       "      <th>JPT_KJ_I_1</th>\n",
       "      <th>JPT_KJ_I_2</th>\n",
       "      <th>JPT_OPIS</th>\n",
       "      <th>JPT_SPS_KO</th>\n",
       "      <th>ID_BUFOR_1</th>\n",
       "      <th>JPT_ID</th>\n",
       "      <th>JPT_KJ_I_3</th>\n",
       "      <th>Shape_Leng</th>\n",
       "      <th>Shape_Area</th>\n",
       "      <th>geometry</th>\n",
       "    </tr>\n",
       "  </thead>\n",
       "  <tbody>\n",
       "    <tr>\n",
       "      <th>0</th>\n",
       "      <td>WOJ</td>\n",
       "      <td>24</td>\n",
       "      <td>ÅlÄ",
       "skie</td>\n",
       "      <td>None</td>\n",
       "      <td>0</td>\n",
       "      <td>2017-10-10</td>\n",
       "      <td>None</td>\n",
       "      <td>2012-09-26</td>\n",
       "      <td>None</td>\n",
       "      <td>None</td>\n",
       "      <td>...</td>\n",
       "      <td>24</td>\n",
       "      <td>None</td>\n",
       "      <td>None</td>\n",
       "      <td>UZG</td>\n",
       "      <td>0</td>\n",
       "      <td>1331323</td>\n",
       "      <td>None</td>\n",
       "      <td>12.136952</td>\n",
       "      <td>1.557335</td>\n",
       "      <td>(POLYGON ((18.91685459000007 51.09608365100007...</td>\n",
       "    </tr>\n",
       "    <tr>\n",
       "      <th>1</th>\n",
       "      <td>WOJ</td>\n",
       "      <td>16</td>\n",
       "      <td>opolskie</td>\n",
       "      <td>None</td>\n",
       "      <td>0</td>\n",
       "      <td>2017-10-10</td>\n",
       "      <td>None</td>\n",
       "      <td>2012-09-26</td>\n",
       "      <td>None</td>\n",
       "      <td>None</td>\n",
       "      <td>...</td>\n",
       "      <td>16</td>\n",
       "      <td>None</td>\n",
       "      <td>None</td>\n",
       "      <td>UZG</td>\n",
       "      <td>0</td>\n",
       "      <td>1331326</td>\n",
       "      <td>None</td>\n",
       "      <td>9.005207</td>\n",
       "      <td>1.196205</td>\n",
       "      <td>POLYGON ((17.81203097900004 51.18668781800005,...</td>\n",
       "    </tr>\n",
       "    <tr>\n",
       "      <th>2</th>\n",
       "      <td>WOJ</td>\n",
       "      <td>30</td>\n",
       "      <td>wielkopolskie</td>\n",
       "      <td>None</td>\n",
       "      <td>0</td>\n",
       "      <td>2016-05-05</td>\n",
       "      <td>None</td>\n",
       "      <td>2012-09-26</td>\n",
       "      <td>None</td>\n",
       "      <td>None</td>\n",
       "      <td>...</td>\n",
       "      <td>30</td>\n",
       "      <td>None</td>\n",
       "      <td>None</td>\n",
       "      <td>UZG</td>\n",
       "      <td>0</td>\n",
       "      <td>1311516</td>\n",
       "      <td>None</td>\n",
       "      <td>18.408173</td>\n",
       "      <td>3.932196</td>\n",
       "      <td>POLYGON ((16.71446700900003 53.29913246100006,...</td>\n",
       "    </tr>\n",
       "    <tr>\n",
       "      <th>3</th>\n",
       "      <td>WOJ</td>\n",
       "      <td>32</td>\n",
       "      <td>zachodniopomorskie</td>\n",
       "      <td>None</td>\n",
       "      <td>0</td>\n",
       "      <td>2019-01-17</td>\n",
       "      <td>None</td>\n",
       "      <td>2012-09-26</td>\n",
       "      <td>None</td>\n",
       "      <td>None</td>\n",
       "      <td>...</td>\n",
       "      <td>32</td>\n",
       "      <td>None</td>\n",
       "      <td>None</td>\n",
       "      <td>UZG</td>\n",
       "      <td>0</td>\n",
       "      <td>1351683</td>\n",
       "      <td>None</td>\n",
       "      <td>12.146499</td>\n",
       "      <td>3.106476</td>\n",
       "      <td>POLYGON ((14.22607683600006 53.92774300100007,...</td>\n",
       "    </tr>\n",
       "    <tr>\n",
       "      <th>4</th>\n",
       "      <td>WOJ</td>\n",
       "      <td>26</td>\n",
       "      <td>ÅwiÄtokrzyskie</td>\n",
       "      <td>None</td>\n",
       "      <td>0</td>\n",
       "      <td>2012-09-26</td>\n",
       "      <td>None</td>\n",
       "      <td>2012-09-26</td>\n",
       "      <td>None</td>\n",
       "      <td>None</td>\n",
       "      <td>...</td>\n",
       "      <td>26</td>\n",
       "      <td>None</td>\n",
       "      <td>None</td>\n",
       "      <td>UZG</td>\n",
       "      <td>0</td>\n",
       "      <td>829374</td>\n",
       "      <td>None</td>\n",
       "      <td>9.264959</td>\n",
       "      <td>1.491827</td>\n",
       "      <td>POLYGON ((19.70430351800007 50.75239439200004,...</td>\n",
       "    </tr>\n",
       "  </tbody>\n",
       "</table>\n",
       "<p>5 rows × 30 columns</p>\n",
       "</div>"
      ],
      "text/plain": [
       "  JPT_SJR_KO JPT_KOD_JE          JPT_NAZWA_ JPT_ORGAN_  JPT_JOR_ID  \\\n",
       "0        WOJ         24           ÅlÄ\n",
       "skie       None           0   \n",
       "1        WOJ         16            opolskie       None           0   \n",
       "2        WOJ         30       wielkopolskie       None           0   \n",
       "3        WOJ         32  zachodniopomorskie       None           0   \n",
       "4        WOJ         26    ÅwiÄtokrzyskie       None           0   \n",
       "\n",
       "    WERSJA_OD WERSJA_DO    WAZNY_OD WAZNY_DO JPT_KOD__1  \\\n",
       "0  2017-10-10      None  2012-09-26     None       None   \n",
       "1  2017-10-10      None  2012-09-26     None       None   \n",
       "2  2016-05-05      None  2012-09-26     None       None   \n",
       "3  2019-01-17      None  2012-09-26     None       None   \n",
       "4  2012-09-26      None  2012-09-26     None       None   \n",
       "\n",
       "                         ...                         JPT_KJ_I_1 JPT_KJ_I_2  \\\n",
       "0                        ...                                 24       None   \n",
       "1                        ...                                 16       None   \n",
       "2                        ...                                 30       None   \n",
       "3                        ...                                 32       None   \n",
       "4                        ...                                 26       None   \n",
       "\n",
       "  JPT_OPIS  JPT_SPS_KO  ID_BUFOR_1   JPT_ID JPT_KJ_I_3 Shape_Leng Shape_Area  \\\n",
       "0     None         UZG           0  1331323       None  12.136952   1.557335   \n",
       "1     None         UZG           0  1331326       None   9.005207   1.196205   \n",
       "2     None         UZG           0  1311516       None  18.408173   3.932196   \n",
       "3     None         UZG           0  1351683       None  12.146499   3.106476   \n",
       "4     None         UZG           0   829374       None   9.264959   1.491827   \n",
       "\n",
       "                                            geometry  \n",
       "0  (POLYGON ((18.91685459000007 51.09608365100007...  \n",
       "1  POLYGON ((17.81203097900004 51.18668781800005,...  \n",
       "2  POLYGON ((16.71446700900003 53.29913246100006,...  \n",
       "3  POLYGON ((14.22607683600006 53.92774300100007,...  \n",
       "4  POLYGON ((19.70430351800007 50.75239439200004,...  \n",
       "\n",
       "[5 rows x 30 columns]"
      ]
     },
     "execution_count": 5,
     "metadata": {},
     "output_type": "execute_result"
    }
   ],
   "source": [
    "map_df = gpd.read_file(fp)\n",
    "# check data type so we can see that this is not a normal dataframe, but a GEOdataframe\n",
    "map_df.head()"
   ]
  },
  {
   "cell_type": "code",
   "execution_count": 6,
   "metadata": {},
   "outputs": [
    {
     "data": {
      "text/plain": [
       "<matplotlib.axes._subplots.AxesSubplot at 0x121b49c88>"
      ]
     },
     "execution_count": 6,
     "metadata": {},
     "output_type": "execute_result"
    },
    {
     "data": {
      "image/png": "[encoded data removed]",
      "text/plain": [
       "<Figure size 432x288 with 1 Axes>"
      ]
     },
     "metadata": {
      "needs_background": "light"
     },
     "output_type": "display_data"
    }
   ],
   "source": [
    "map_df.plot()"
   ]
  },
  {
   "cell_type": "code",
   "execution_count": 7,
   "metadata": {},
   "outputs": [],
   "source": [
    "a = [[1,2,3,4,5,6,7,8,9,10,11,12,13,14,15,16], [1,2,3,4,5,6,7,8,9,10,11,12,13,14,15,16]]\n",
    "df_woj = np.array(a).reshape(16,2)\n",
    "df_woj = pd.DataFrame(df_woj)"
   ]
  },
  {
   "cell_type": "code",
   "execution_count": 8,
   "metadata": {},
   "outputs": [],
   "source": [
    "merged = map_df.join(df_woj)\n",
    "merged['j'] = [1,2,3,4,5,6,7,8,9,10,11,12,13,14,15,16]\n",
    "merged['k'] = np.array([1,2,3,4,5,6,7,8,9,10,11,12,13,14,15,16]).astype('int')"
   ]
  },
  {
   "cell_type": "code",
   "execution_count": 9,
   "metadata": {},
   "outputs": [
    {
     "data": {
      "image/png": "[encoded data removed]",
      "text/plain": [
       "<Figure size 432x288 with 1 Axes>"
      ]
     },
     "metadata": {
      "needs_background": "light"
     },
     "output_type": "display_data"
    }
   ],
   "source": [
    "# set a variable that will call whatever column we want to visualise on the map\n",
    "variable = 'j'\n",
    "# set the range for the choropleth\n",
    "vmin, vmax = 1,16\n",
    "# create figure and axes for Matplotlib\n",
    "fig, ax = plt.subplots()"
   ]
  },
  {
   "cell_type": "code",
   "execution_count": 10,
   "metadata": {},
   "outputs": [
    {
     "data": {
      "text/plain": [
       "<Figure size 432x288 with 0 Axes>"
      ]
     },
     "metadata": {},
     "output_type": "display_data"
    }
   ],
   "source": [
    "map_points = merged.copy()\n",
    "map_points.plot(column='j', cmap='Blues', linewidth=0.8, ax=ax, edgecolor='0.8')\n",
    "\n",
    "sm = plt.cm.ScalarMappable(cmap='Blues', norm=plt.Normalize(vmin=vmin, vmax=vmax))\n",
    "# empty array for the data range\n",
    "sm._A = []"
   ]
  },
  {
   "cell_type": "code",
   "execution_count": 11,
   "metadata": {},
   "outputs": [
    {
     "data": {
      "image/png": "[encoded data removed]",
      "text/plain": [
       "<Figure size 432x288 with 1 Axes>"
      ]
     },
     "execution_count": 11,
     "metadata": {},
     "output_type": "execute_result"
    }
   ],
   "source": [
    "fig"
   ]
  }
 ],
 "metadata": {
  "kernelspec": {
   "display_name": "Python 3",
   "language": "python",
   "name": "python3"
  },
  "language_info": {
   "codemirror_mode": {
    "name": "ipython",
    "version": 3
   },
   "file_extension": ".py",
   "mimetype": "text/x-python",
   "name": "python",
   "nbconvert_exporter": "python",
   "pygments_lexer": "ipython3",
   "version": "3.7.2"
  }
 },
 "nbformat": 4,
 "nbformat_minor": 2
}
